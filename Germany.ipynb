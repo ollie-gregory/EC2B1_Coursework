{
 "cells": [
  {
   "cell_type": "code",
   "execution_count": 80,
   "metadata": {},
   "outputs": [],
   "source": [
    "# Import relevant modules\n",
    "import numpy as np\n",
    "import matplotlib.pyplot as plt\n",
    "import pandas as pd"
   ]
  },
  {
   "cell_type": "code",
   "execution_count": 81,
   "metadata": {},
   "outputs": [
    {
     "data": {
      "text/html": [
       "<div>\n",
       "<style scoped>\n",
       "    .dataframe tbody tr th:only-of-type {\n",
       "        vertical-align: middle;\n",
       "    }\n",
       "\n",
       "    .dataframe tbody tr th {\n",
       "        vertical-align: top;\n",
       "    }\n",
       "\n",
       "    .dataframe thead th {\n",
       "        text-align: right;\n",
       "    }\n",
       "</style>\n",
       "<table border=\"1\" class=\"dataframe\">\n",
       "  <thead>\n",
       "    <tr style=\"text-align: right;\">\n",
       "      <th></th>\n",
       "      <th>country</th>\n",
       "      <th>year</th>\n",
       "      <th>rgdpna</th>\n",
       "      <th>pop</th>\n",
       "      <th>rnna</th>\n",
       "      <th>emp</th>\n",
       "      <th>hc</th>\n",
       "      <th>rgdpna_pc</th>\n",
       "      <th>rgdpna_pw</th>\n",
       "      <th>TFP_full</th>\n",
       "      <th>TFP_ex_hc</th>\n",
       "    </tr>\n",
       "  </thead>\n",
       "  <tbody>\n",
       "    <tr>\n",
       "      <th>0</th>\n",
       "      <td>Germany</td>\n",
       "      <td>1950</td>\n",
       "      <td>495205.0000</td>\n",
       "      <td>68.734097</td>\n",
       "      <td>1918304.625</td>\n",
       "      <td>30.855808</td>\n",
       "      <td>2.426997</td>\n",
       "      <td>7204.648339</td>\n",
       "      <td>16049.004319</td>\n",
       "      <td>585.293768</td>\n",
       "      <td>314.648314</td>\n",
       "    </tr>\n",
       "    <tr>\n",
       "      <th>1</th>\n",
       "      <td>Germany</td>\n",
       "      <td>1951</td>\n",
       "      <td>543256.9375</td>\n",
       "      <td>69.073867</td>\n",
       "      <td>2051990.875</td>\n",
       "      <td>31.436510</td>\n",
       "      <td>2.469304</td>\n",
       "      <td>7864.869267</td>\n",
       "      <td>17281.082920</td>\n",
       "      <td>621.081545</td>\n",
       "      <td>329.872736</td>\n",
       "    </tr>\n",
       "    <tr>\n",
       "      <th>2</th>\n",
       "      <td>Germany</td>\n",
       "      <td>1952</td>\n",
       "      <td>593964.5000</td>\n",
       "      <td>69.448821</td>\n",
       "      <td>2209629.750</td>\n",
       "      <td>32.024281</td>\n",
       "      <td>2.512348</td>\n",
       "      <td>8552.549804</td>\n",
       "      <td>18547.317530</td>\n",
       "      <td>655.585092</td>\n",
       "      <td>344.011682</td>\n",
       "    </tr>\n",
       "    <tr>\n",
       "      <th>3</th>\n",
       "      <td>Germany</td>\n",
       "      <td>1953</td>\n",
       "      <td>646873.8125</td>\n",
       "      <td>69.846895</td>\n",
       "      <td>2367170.500</td>\n",
       "      <td>32.835850</td>\n",
       "      <td>2.556143</td>\n",
       "      <td>9261.310953</td>\n",
       "      <td>19700.230607</td>\n",
       "      <td>687.237621</td>\n",
       "      <td>356.284819</td>\n",
       "    </tr>\n",
       "    <tr>\n",
       "      <th>4</th>\n",
       "      <td>Germany</td>\n",
       "      <td>1954</td>\n",
       "      <td>697127.4375</td>\n",
       "      <td>70.264068</td>\n",
       "      <td>2552261.250</td>\n",
       "      <td>33.835823</td>\n",
       "      <td>2.587326</td>\n",
       "      <td>9921.535351</td>\n",
       "      <td>20603.235697</td>\n",
       "      <td>709.040294</td>\n",
       "      <td>364.481199</td>\n",
       "    </tr>\n",
       "  </tbody>\n",
       "</table>\n",
       "</div>"
      ],
      "text/plain": [
       "   country  year       rgdpna        pop         rnna        emp        hc  \\\n",
       "0  Germany  1950  495205.0000  68.734097  1918304.625  30.855808  2.426997   \n",
       "1  Germany  1951  543256.9375  69.073867  2051990.875  31.436510  2.469304   \n",
       "2  Germany  1952  593964.5000  69.448821  2209629.750  32.024281  2.512348   \n",
       "3  Germany  1953  646873.8125  69.846895  2367170.500  32.835850  2.556143   \n",
       "4  Germany  1954  697127.4375  70.264068  2552261.250  33.835823  2.587326   \n",
       "\n",
       "     rgdpna_pc     rgdpna_pw    TFP_full   TFP_ex_hc  \n",
       "0  7204.648339  16049.004319  585.293768  314.648314  \n",
       "1  7864.869267  17281.082920  621.081545  329.872736  \n",
       "2  8552.549804  18547.317530  655.585092  344.011682  \n",
       "3  9261.310953  19700.230607  687.237621  356.284819  \n",
       "4  9921.535351  20603.235697  709.040294  364.481199  "
      ]
     },
     "execution_count": 81,
     "metadata": {},
     "output_type": "execute_result"
    }
   ],
   "source": [
    "# Read in the df_levels\n",
    "\n",
    "df_levels = pd.read_excel(\"./pwt100.xlsx\", sheet_name = \"Data\", header = 0)\n",
    "\n",
    "# Clean the df_levels\n",
    "\n",
    "#Select the country to analyse\n",
    "country_selection = \"Germany\"\n",
    "\n",
    "# Extract relevant columns\n",
    "df_levels = df_levels.loc[:, (\"country\", \"year\", \"rgdpna\", \"pop\", \"rnna\", \"emp\", \"hc\")]\n",
    "\n",
    "# Calculate GDP per capita and per worker\n",
    "df_levels[\"rgdpna_pc\"] = df_levels[\"rgdpna\"] / df_levels[\"pop\"]\n",
    "df_levels[\"rgdpna_pw\"] = df_levels[\"rgdpna\"] / df_levels[\"emp\"]\n",
    "\n",
    "# Filter for the country of choice\n",
    "df_levels = df_levels.loc[df_levels[\"country\"] == country_selection,:]\n",
    "df_levels = df_levels.reset_index(drop = True)\n",
    "\n",
    "# Remove rows with missing df_levels\n",
    "ymax = df_levels.loc[df_levels[\"rgdpna\"] > 0, \"year\"].max()\n",
    "ymin = df_levels.loc[df_levels[\"rgdpna\"] > 0, \"year\"].min()\n",
    "df_levels = df_levels.loc[df_levels[\"year\"] >= ymin, :]\n",
    "\n",
    "\n",
    "# Extract TFP measure\n",
    "alpha = 0.3  # benchmark alpha value\n",
    "\n",
    "rnna = df_levels[\"rnna\"]  # capital variable\n",
    "emp = df_levels[\"emp\"]  # labour variable\n",
    "hc = df_levels[\"hc\"]  # human capital variable\n",
    "\n",
    "# tfp from cobb-douglas production function without human capital\n",
    "tfp_full = df_levels[\"rgdpna\"] / ((rnna ** alpha) * (emp ** (1 - alpha)))\n",
    "\n",
    "# tfp from cobb-douglas production function with human capital\n",
    "tfp_ex_hc = df_levels[\"rgdpna\"] / ((rnna ** alpha) * ((hc * emp) ** (1 - alpha)))\n",
    "\n",
    "# add new variables to the df_levels frame\n",
    "df_levels[\"TFP_full\"] = tfp_full\n",
    "df_levels[\"TFP_ex_hc\"] = tfp_ex_hc\n",
    "\n",
    "# Check structure of df_levels is what is expected\n",
    "df_levels.head()"
   ]
  },
  {
   "cell_type": "code",
   "execution_count": 82,
   "metadata": {},
   "outputs": [],
   "source": [
    "#Extract TFP measure"
   ]
  },
  {
   "cell_type": "code",
   "execution_count": 83,
   "metadata": {},
   "outputs": [],
   "source": [
    "year_of_interest = {\n",
    "    'Germany': 1989,\n",
    "    'Indonesia' : 1997\n",
    "}"
   ]
  },
  {
   "cell_type": "code",
   "execution_count": 84,
   "metadata": {},
   "outputs": [],
   "source": [
    "import reg_functions as reg"
   ]
  },
  {
   "cell_type": "code",
   "execution_count": 85,
   "metadata": {},
   "outputs": [
    {
     "ename": "NameError",
     "evalue": "name 'np' is not defined",
     "output_type": "error",
     "traceback": [
      "\u001b[0;31m---------------------------------------------------------------------------\u001b[0m",
      "\u001b[0;31mNameError\u001b[0m                                 Traceback (most recent call last)",
      "\u001b[0;32m/var/folders/6w/w0l0jj416lb8x18v4b5chr800000gn/T/ipykernel_51717/3982576196.py\u001b[0m in \u001b[0;36m<module>\u001b[0;34m\u001b[0m\n\u001b[1;32m      1\u001b[0m \u001b[0mplt\u001b[0m\u001b[0;34m.\u001b[0m\u001b[0mplot\u001b[0m\u001b[0;34m(\u001b[0m\u001b[0mdf_levels\u001b[0m\u001b[0;34m[\u001b[0m\u001b[0;34m\"year\"\u001b[0m\u001b[0;34m]\u001b[0m\u001b[0;34m,\u001b[0m \u001b[0mdf_levels\u001b[0m\u001b[0;34m[\u001b[0m\u001b[0;34m\"rgdpna\"\u001b[0m\u001b[0;34m]\u001b[0m\u001b[0;34m)\u001b[0m\u001b[0;34m\u001b[0m\u001b[0;34m\u001b[0m\u001b[0m\n\u001b[0;32m----> 2\u001b[0;31m \u001b[0mplt\u001b[0m\u001b[0;34m.\u001b[0m\u001b[0mplot\u001b[0m\u001b[0;34m(\u001b[0m\u001b[0mdf_levels\u001b[0m\u001b[0;34m[\u001b[0m\u001b[0;34m\"year\"\u001b[0m\u001b[0;34m]\u001b[0m\u001b[0;34m,\u001b[0m \u001b[0mreg\u001b[0m\u001b[0;34m.\u001b[0m\u001b[0mcalc_add_quad\u001b[0m\u001b[0;34m(\u001b[0m\u001b[0mdf_levels\u001b[0m\u001b[0;34m[\u001b[0m\u001b[0;34m\"rgdpna\"\u001b[0m\u001b[0;34m]\u001b[0m\u001b[0;34m)\u001b[0m\u001b[0;34m)\u001b[0m\u001b[0;34m\u001b[0m\u001b[0;34m\u001b[0m\u001b[0m\n\u001b[0m",
      "\u001b[0;32m~/Documents/LSE/Year_2/EC2B1/Coursework/EC2B1_Coursework/reg_functions.py\u001b[0m in \u001b[0;36mcalc_add_quad\u001b[0;34m(var)\u001b[0m\n",
      "\u001b[0;32m~/Documents/LSE/Year_2/EC2B1/Coursework/EC2B1_Coursework/reg_functions.py\u001b[0m in \u001b[0;36m<listcomp>\u001b[0;34m(.0)\u001b[0m\n",
      "\u001b[0;31mNameError\u001b[0m: name 'np' is not defined"
     ]
    },
    {
     "data": {
      "image/png": "[encoded data removed]",
      "text/plain": [
       "<Figure size 640x480 with 1 Axes>"
      ]
     },
     "metadata": {},
     "output_type": "display_data"
    }
   ],
   "source": [
    "plt.plot(df_levels[\"year\"], df_levels[\"rgdpna\"])\n",
    "plt.plot(df_levels[\"year\"], reg.calc_add_quad(df_levels[\"rgdpna\"]))"
   ]
  }
 ],
 "metadata": {
  "kernelspec": {
   "display_name": "base",
   "language": "python",
   "name": "python3"
  },
  "language_info": {
   "codemirror_mode": {
    "name": "ipython",
    "version": 3
   },
   "file_extension": ".py",
   "mimetype": "text/x-python",
   "name": "python",
   "nbconvert_exporter": "python",
   "pygments_lexer": "ipython3",
   "version": "3.9.13"
  }
 },
 "nbformat": 4,
 "nbformat_minor": 2
}
